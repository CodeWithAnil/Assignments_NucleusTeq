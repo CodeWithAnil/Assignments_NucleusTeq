{
 "cells": [
  {
   "cell_type": "code",
   "execution_count": 1,
   "id": "e81c9564-3e41-4bfa-8371-5c0e9db3e6d0",
   "metadata": {},
   "outputs": [],
   "source": [
    "from pyspark.sql import SparkSession"
   ]
  },
  {
   "cell_type": "code",
   "execution_count": 2,
   "id": "ee1aa23d-3228-4f59-9327-c4e14f6314d9",
   "metadata": {},
   "outputs": [],
   "source": [
    "from pyspark.sql.types import StructType,StructField,IntegerType,StringType\n",
    "import pyspark.sql.functions as func "
   ]
  },
  {
   "cell_type": "code",
   "execution_count": 3,
   "id": "fa4c8dbe-02f9-4ddd-8c5d-1abaea8624b4",
   "metadata": {},
   "outputs": [],
   "source": [
    "spark = SparkSession.builder.appName(\"SparkFirstApp\").getOrCreate()"
   ]
  },
  {
   "cell_type": "code",
   "execution_count": 21,
   "id": "be0e7cfd-e1e5-4968-8e0d-e5b5a1a51ed5",
   "metadata": {},
   "outputs": [],
   "source": [
    "myschema = StructType([\\\n",
    "                       StructField(\"userID\", IntegerType(),True),\n",
    "                       StructField(\"name\", StringType(),True), \n",
    "                       StructField(\"age\", IntegerType(),True),\n",
    "                       StructField(\"friends\", IntegerType(),True)\n",
    "                       ])"
   ]
  },
  {
   "cell_type": "code",
   "execution_count": 22,
   "id": "5bd0a6b4-91f4-463a-bfac-0d02ef647662",
   "metadata": {},
   "outputs": [],
   "source": [
    "#read csv file into dataframe with schema as myschema\n",
    "people = spark.read.format(\"csv\")\\\n",
    "         .schema(myschema)\\\n",
    "         .option(\"path\",\"fakefriends.csv\")\\\n",
    "         .load()"
   ]
  },
  {
   "cell_type": "code",
   "execution_count": 23,
   "id": "c4a6ade8-8993-4aa4-8615-b6c2e2bd9d12",
   "metadata": {},
   "outputs": [
    {
     "data": {
      "text/plain": [
       "500"
      ]
     },
     "execution_count": 23,
     "metadata": {},
     "output_type": "execute_result"
    }
   ],
   "source": [
    "people.count()"
   ]
  },
  {
   "cell_type": "code",
   "execution_count": 24,
   "id": "bc334988-5137-4ff1-8caf-6b9864f6d24a",
   "metadata": {},
   "outputs": [
    {
     "name": "stdout",
     "output_type": "stream",
     "text": [
      "root\n",
      " |-- userID: integer (nullable = true)\n",
      " |-- name: string (nullable = true)\n",
      " |-- age: integer (nullable = true)\n",
      " |-- friends: integer (nullable = true)\n",
      "\n"
     ]
    }
   ],
   "source": [
    "people.printSchema()"
   ]
  },
  {
   "cell_type": "code",
   "execution_count": 25,
   "id": "7f0a39b7-02a6-40ad-a505-c770c353fcb3",
   "metadata": {},
   "outputs": [],
   "source": [
    "output = people.select(people.userID,people.name\\\n",
    "                       ,people.age,people.friends)\\\n",
    "        .where(people.age>30).withColumn('insert_ts',func.current_timestamp())\\\n",
    "        .orderBy(people.userID)"
   ]
  },
  {
   "cell_type": "code",
   "execution_count": 26,
   "id": "9900f46f-a98d-406a-9c69-d13bb6b9b590",
   "metadata": {},
   "outputs": [
    {
     "data": {
      "text/plain": [
       "377"
      ]
     },
     "execution_count": 26,
     "metadata": {},
     "output_type": "execute_result"
    }
   ],
   "source": [
    "output.count()"
   ]
  },
  {
   "cell_type": "code",
   "execution_count": 11,
   "id": "91103028-92d6-4e6a-9cfe-795fb0fbf826",
   "metadata": {},
   "outputs": [
    {
     "name": "stdout",
     "output_type": "stream",
     "text": [
      "+------+--------+---+-------+--------------------+\n",
      "|userID|    name|age|friends|           insert_ts|\n",
      "+------+--------+---+-------+--------------------+\n",
      "|     0|    Will| 33|    385|2024-07-07 08:43:...|\n",
      "|     2|    Hugh| 55|    221|2024-07-07 08:43:...|\n",
      "|     3|  Deanna| 40|    465|2024-07-07 08:43:...|\n",
      "|     4|   Quark| 68|     21|2024-07-07 08:43:...|\n",
      "|     5|  Weyoun| 59|    318|2024-07-07 08:43:...|\n",
      "|     6|  Gowron| 37|    220|2024-07-07 08:43:...|\n",
      "|     7|    Will| 54|    307|2024-07-07 08:43:...|\n",
      "|     8|  Jadzia| 38|    380|2024-07-07 08:43:...|\n",
      "|    10|     Odo| 53|    191|2024-07-07 08:43:...|\n",
      "|    11|     Ben| 57|    372|2024-07-07 08:43:...|\n",
      "|    12|   Keiko| 54|    253|2024-07-07 08:43:...|\n",
      "|    13|Jean-Luc| 56|    444|2024-07-07 08:43:...|\n",
      "|    14|    Hugh| 43|     49|2024-07-07 08:43:...|\n",
      "|    15|     Rom| 36|     49|2024-07-07 08:43:...|\n",
      "|    17|     Odo| 35|     13|2024-07-07 08:43:...|\n",
      "|    18|Jean-Luc| 45|    455|2024-07-07 08:43:...|\n",
      "|    19|  Geordi| 60|    246|2024-07-07 08:43:...|\n",
      "|    20|     Odo| 67|    220|2024-07-07 08:43:...|\n",
      "|    23|   Keiko| 51|    271|2024-07-07 08:43:...|\n",
      "|    27|   Leeta| 42|    363|2024-07-07 08:43:...|\n",
      "+------+--------+---+-------+--------------------+\n",
      "only showing top 20 rows\n",
      "\n"
     ]
    }
   ],
   "source": [
    "output.show()"
   ]
  },
  {
   "cell_type": "code",
   "execution_count": 27,
   "id": "01f4aef2-87d1-4b9a-805a-d10b15834823",
   "metadata": {},
   "outputs": [],
   "source": [
    "output.createOrReplaceTempView('peoples')"
   ]
  },
  {
   "cell_type": "code",
   "execution_count": 42,
   "id": "bff6301f-5880-4617-bd1b-094a0e60ce7f",
   "metadata": {},
   "outputs": [
    {
     "name": "stdout",
     "output_type": "stream",
     "text": [
      "+------+--------+---+-------+--------------------+\n",
      "|userID|    name|age|friends|           insert_ts|\n",
      "+------+--------+---+-------+--------------------+\n",
      "|     2|    Hugh| 55|    221|2024-07-08 23:24:...|\n",
      "|     4|   Quark| 68|     21|2024-07-08 23:24:...|\n",
      "|     5|  Weyoun| 59|    318|2024-07-08 23:24:...|\n",
      "|     7|    Will| 54|    307|2024-07-08 23:24:...|\n",
      "|    10|     Odo| 53|    191|2024-07-08 23:24:...|\n",
      "|    11|     Ben| 57|    372|2024-07-08 23:24:...|\n",
      "|    12|   Keiko| 54|    253|2024-07-08 23:24:...|\n",
      "|    13|Jean-Luc| 56|    444|2024-07-08 23:24:...|\n",
      "|    19|  Geordi| 60|    246|2024-07-08 23:24:...|\n",
      "|    20|     Odo| 67|    220|2024-07-08 23:24:...|\n",
      "|    23|   Keiko| 51|    271|2024-07-08 23:24:...|\n",
      "|    30|   Keiko| 50|    175|2024-07-08 23:24:...|\n",
      "|    33|   Dukat| 53|    197|2024-07-08 23:24:...|\n",
      "|    37|  Geordi| 58|     21|2024-07-08 23:24:...|\n",
      "|    38|  Deanna| 64|     65|2024-07-08 23:24:...|\n",
      "|    40|     Odo| 52|    413|2024-07-08 23:24:...|\n",
      "|    41|    Hugh| 67|    167|2024-07-08 23:24:...|\n",
      "|    42|   Brunt| 54|     75|2024-07-08 23:24:...|\n",
      "|    43|  Guinan| 58|    345|2024-07-08 23:24:...|\n",
      "|    45|   Dukat| 52|     77|2024-07-08 23:24:...|\n",
      "+------+--------+---+-------+--------------------+\n",
      "only showing top 20 rows\n",
      "\n"
     ]
    }
   ],
   "source": [
    "## use filter operation\n",
    "output.filter('age>=50').show()"
   ]
  },
  {
   "cell_type": "code",
   "execution_count": 45,
   "id": "1f507793-d82d-4781-89a5-f1c17e94793c",
   "metadata": {},
   "outputs": [
    {
     "name": "stdout",
     "output_type": "stream",
     "text": [
      "+--------+---+\n",
      "|    name|age|\n",
      "+--------+---+\n",
      "|    Hugh| 55|\n",
      "|   Quark| 68|\n",
      "|  Weyoun| 59|\n",
      "|    Will| 54|\n",
      "|     Odo| 53|\n",
      "|     Ben| 57|\n",
      "|   Keiko| 54|\n",
      "|Jean-Luc| 56|\n",
      "|  Geordi| 60|\n",
      "|     Odo| 67|\n",
      "|   Keiko| 51|\n",
      "|   Keiko| 50|\n",
      "|   Dukat| 53|\n",
      "|  Geordi| 58|\n",
      "|  Deanna| 64|\n",
      "|     Odo| 52|\n",
      "|    Hugh| 67|\n",
      "|   Brunt| 54|\n",
      "|  Guinan| 58|\n",
      "|   Dukat| 52|\n",
      "+--------+---+\n",
      "only showing top 20 rows\n",
      "\n"
     ]
    }
   ],
   "source": [
    "## another way filter operation\n",
    "output.filter(output['age']>=50).select(['name','age']).show()"
   ]
  },
  {
   "cell_type": "code",
   "execution_count": 50,
   "id": "5c8ec0ac-cbb6-4de7-8b65-eda94beb1518",
   "metadata": {},
   "outputs": [
    {
     "name": "stdout",
     "output_type": "stream",
     "text": [
      "+--------+---+\n",
      "|    name|age|\n",
      "+--------+---+\n",
      "|  Weyoun| 59|\n",
      "|    Will| 54|\n",
      "|     Ben| 57|\n",
      "|   Keiko| 54|\n",
      "|Jean-Luc| 56|\n",
      "|   Keiko| 51|\n",
      "|     Odo| 52|\n",
      "|  Guinan| 58|\n",
      "|   Quark| 51|\n",
      "|     Odo| 57|\n",
      "|    Morn| 59|\n",
      "|  Kasidy| 62|\n",
      "|   Brunt| 52|\n",
      "|    Data| 61|\n",
      "|   Leeta| 58|\n",
      "|   Dukat| 67|\n",
      "|  Jadzia| 54|\n",
      "|    Hugh| 57|\n",
      "|   Quark| 66|\n",
      "|    Hugh| 55|\n",
      "+--------+---+\n",
      "only showing top 20 rows\n",
      "\n"
     ]
    }
   ],
   "source": [
    "## add multiple conditions in filter operation\n",
    "output.filter((output['age']>=50) & (output['friends']>=250)).select(['name','age']).show()"
   ]
  },
  {
   "cell_type": "code",
   "execution_count": 28,
   "id": "cd3ee76c-2ea4-4c25-968f-2d86ced6c0e8",
   "metadata": {},
   "outputs": [
    {
     "name": "stdout",
     "output_type": "stream",
     "text": [
      "+--------+---+-------+--------------------+\n",
      "|    name|age|friends|           insert_ts|\n",
      "+--------+---+-------+--------------------+\n",
      "|    Will| 33|    385|2024-07-08 23:03:...|\n",
      "|    Hugh| 55|    221|2024-07-08 23:03:...|\n",
      "|  Deanna| 40|    465|2024-07-08 23:03:...|\n",
      "|   Quark| 68|     21|2024-07-08 23:03:...|\n",
      "|  Weyoun| 59|    318|2024-07-08 23:03:...|\n",
      "|  Gowron| 37|    220|2024-07-08 23:03:...|\n",
      "|    Will| 54|    307|2024-07-08 23:03:...|\n",
      "|  Jadzia| 38|    380|2024-07-08 23:03:...|\n",
      "|     Odo| 53|    191|2024-07-08 23:03:...|\n",
      "|     Ben| 57|    372|2024-07-08 23:03:...|\n",
      "|   Keiko| 54|    253|2024-07-08 23:03:...|\n",
      "|Jean-Luc| 56|    444|2024-07-08 23:03:...|\n",
      "|    Hugh| 43|     49|2024-07-08 23:03:...|\n",
      "|     Rom| 36|     49|2024-07-08 23:03:...|\n",
      "|     Odo| 35|     13|2024-07-08 23:03:...|\n",
      "|Jean-Luc| 45|    455|2024-07-08 23:03:...|\n",
      "|  Geordi| 60|    246|2024-07-08 23:03:...|\n",
      "|     Odo| 67|    220|2024-07-08 23:03:...|\n",
      "|   Keiko| 51|    271|2024-07-08 23:03:...|\n",
      "|   Leeta| 42|    363|2024-07-08 23:03:...|\n",
      "+--------+---+-------+--------------------+\n",
      "only showing top 20 rows\n",
      "\n"
     ]
    }
   ],
   "source": [
    "spark.sql(\"select name,age,friends,insert_ts from peoples\").show()"
   ]
  },
  {
   "cell_type": "code",
   "execution_count": null,
   "id": "39ad7da5-d9ea-44e1-84e4-f95d43cda6e5",
   "metadata": {},
   "outputs": [],
   "source": []
  },
  {
   "cell_type": "code",
   "execution_count": null,
   "id": "ccc06b40-2650-4834-8ae7-b7e4123f4ed8",
   "metadata": {},
   "outputs": [],
   "source": []
  },
  {
   "cell_type": "code",
   "execution_count": null,
   "id": "db73d551-ad53-4f77-8b1f-4e6f6a1e2f51",
   "metadata": {},
   "outputs": [],
   "source": []
  },
  {
   "cell_type": "code",
   "execution_count": 32,
   "id": "f37223d6-3477-4379-9fd6-bcfc63ff32a1",
   "metadata": {},
   "outputs": [
    {
     "name": "stdout",
     "output_type": "stream",
     "text": [
      "+------+--------+---+-------+--------------------+------------------+\n",
      "|userID|    name|age|friends|           insert_ts|age after two year|\n",
      "+------+--------+---+-------+--------------------+------------------+\n",
      "|     0|    Will| 33|    385|2024-07-08 23:04:...|                35|\n",
      "|     2|    Hugh| 55|    221|2024-07-08 23:04:...|                57|\n",
      "|     3|  Deanna| 40|    465|2024-07-08 23:04:...|                42|\n",
      "|     4|   Quark| 68|     21|2024-07-08 23:04:...|                70|\n",
      "|     5|  Weyoun| 59|    318|2024-07-08 23:04:...|                61|\n",
      "|     6|  Gowron| 37|    220|2024-07-08 23:04:...|                39|\n",
      "|     7|    Will| 54|    307|2024-07-08 23:04:...|                56|\n",
      "|     8|  Jadzia| 38|    380|2024-07-08 23:04:...|                40|\n",
      "|    10|     Odo| 53|    191|2024-07-08 23:04:...|                55|\n",
      "|    11|     Ben| 57|    372|2024-07-08 23:04:...|                59|\n",
      "|    12|   Keiko| 54|    253|2024-07-08 23:04:...|                56|\n",
      "|    13|Jean-Luc| 56|    444|2024-07-08 23:04:...|                58|\n",
      "|    14|    Hugh| 43|     49|2024-07-08 23:04:...|                45|\n",
      "|    15|     Rom| 36|     49|2024-07-08 23:04:...|                38|\n",
      "|    17|     Odo| 35|     13|2024-07-08 23:04:...|                37|\n",
      "|    18|Jean-Luc| 45|    455|2024-07-08 23:04:...|                47|\n",
      "|    19|  Geordi| 60|    246|2024-07-08 23:04:...|                62|\n",
      "|    20|     Odo| 67|    220|2024-07-08 23:04:...|                69|\n",
      "|    23|   Keiko| 51|    271|2024-07-08 23:04:...|                53|\n",
      "|    27|   Leeta| 42|    363|2024-07-08 23:04:...|                44|\n",
      "+------+--------+---+-------+--------------------+------------------+\n",
      "only showing top 20 rows\n",
      "\n"
     ]
    }
   ],
   "source": [
    "## add new column\n",
    "output.withColumn(\"age after two year\", output['age']+2).show()"
   ]
  },
  {
   "cell_type": "code",
   "execution_count": 35,
   "id": "e9e07b4a-5e03-4640-b751-68ece6639821",
   "metadata": {},
   "outputs": [
    {
     "name": "stdout",
     "output_type": "stream",
     "text": [
      "+------+--------+---+----------+--------------------+\n",
      "|userID|    name|age|my friends|           insert_ts|\n",
      "+------+--------+---+----------+--------------------+\n",
      "|     0|    Will| 33|       385|2024-07-08 23:07:...|\n",
      "|     2|    Hugh| 55|       221|2024-07-08 23:07:...|\n",
      "|     3|  Deanna| 40|       465|2024-07-08 23:07:...|\n",
      "|     4|   Quark| 68|        21|2024-07-08 23:07:...|\n",
      "|     5|  Weyoun| 59|       318|2024-07-08 23:07:...|\n",
      "|     6|  Gowron| 37|       220|2024-07-08 23:07:...|\n",
      "|     7|    Will| 54|       307|2024-07-08 23:07:...|\n",
      "|     8|  Jadzia| 38|       380|2024-07-08 23:07:...|\n",
      "|    10|     Odo| 53|       191|2024-07-08 23:07:...|\n",
      "|    11|     Ben| 57|       372|2024-07-08 23:07:...|\n",
      "|    12|   Keiko| 54|       253|2024-07-08 23:07:...|\n",
      "|    13|Jean-Luc| 56|       444|2024-07-08 23:07:...|\n",
      "|    14|    Hugh| 43|        49|2024-07-08 23:07:...|\n",
      "|    15|     Rom| 36|        49|2024-07-08 23:07:...|\n",
      "|    17|     Odo| 35|        13|2024-07-08 23:07:...|\n",
      "|    18|Jean-Luc| 45|       455|2024-07-08 23:07:...|\n",
      "|    19|  Geordi| 60|       246|2024-07-08 23:07:...|\n",
      "|    20|     Odo| 67|       220|2024-07-08 23:07:...|\n",
      "|    23|   Keiko| 51|       271|2024-07-08 23:07:...|\n",
      "|    27|   Leeta| 42|       363|2024-07-08 23:07:...|\n",
      "+------+--------+---+----------+--------------------+\n",
      "only showing top 20 rows\n",
      "\n"
     ]
    }
   ],
   "source": [
    "## rename column\n",
    "output.withColumnRenamed('friends','my friends').show()\n"
   ]
  },
  {
   "cell_type": "code",
   "execution_count": 36,
   "id": "03c3449f-4131-48d3-a7af-ccdb9e927019",
   "metadata": {},
   "outputs": [
    {
     "name": "stdout",
     "output_type": "stream",
     "text": [
      "+------+--------+---+-------+--------------------+\n",
      "|userID|    name|age|friends|           insert_ts|\n",
      "+------+--------+---+-------+--------------------+\n",
      "|     0|    Will| 33|    385|2024-07-08 23:08:...|\n",
      "|     2|    Hugh| 55|    221|2024-07-08 23:08:...|\n",
      "|     3|  Deanna| 40|    465|2024-07-08 23:08:...|\n",
      "|     4|   Quark| 68|     21|2024-07-08 23:08:...|\n",
      "|     5|  Weyoun| 59|    318|2024-07-08 23:08:...|\n",
      "|     6|  Gowron| 37|    220|2024-07-08 23:08:...|\n",
      "|     7|    Will| 54|    307|2024-07-08 23:08:...|\n",
      "|     8|  Jadzia| 38|    380|2024-07-08 23:08:...|\n",
      "|    10|     Odo| 53|    191|2024-07-08 23:08:...|\n",
      "|    11|     Ben| 57|    372|2024-07-08 23:08:...|\n",
      "|    12|   Keiko| 54|    253|2024-07-08 23:08:...|\n",
      "|    13|Jean-Luc| 56|    444|2024-07-08 23:08:...|\n",
      "|    14|    Hugh| 43|     49|2024-07-08 23:08:...|\n",
      "|    15|     Rom| 36|     49|2024-07-08 23:08:...|\n",
      "|    17|     Odo| 35|     13|2024-07-08 23:08:...|\n",
      "|    18|Jean-Luc| 45|    455|2024-07-08 23:08:...|\n",
      "|    19|  Geordi| 60|    246|2024-07-08 23:08:...|\n",
      "|    20|     Odo| 67|    220|2024-07-08 23:08:...|\n",
      "|    23|   Keiko| 51|    271|2024-07-08 23:08:...|\n",
      "|    27|   Leeta| 42|    363|2024-07-08 23:08:...|\n",
      "+------+--------+---+-------+--------------------+\n",
      "only showing top 20 rows\n",
      "\n"
     ]
    }
   ],
   "source": [
    "output.withColumnRenamed('my friends','friends').show()"
   ]
  },
  {
   "cell_type": "code",
   "execution_count": 38,
   "id": "173c1c7b-0195-4603-8891-ac9340d538fe",
   "metadata": {},
   "outputs": [
    {
     "name": "stdout",
     "output_type": "stream",
     "text": [
      "+------+--------+---+-------+--------------------+\n",
      "|userID|    name|age|friends|           insert_ts|\n",
      "+------+--------+---+-------+--------------------+\n",
      "|     0|    Will| 33|    385|2024-07-08 23:08:...|\n",
      "|     2|    Hugh| 55|    221|2024-07-08 23:08:...|\n",
      "|     3|  Deanna| 40|    465|2024-07-08 23:08:...|\n",
      "|     4|   Quark| 68|     21|2024-07-08 23:08:...|\n",
      "|     5|  Weyoun| 59|    318|2024-07-08 23:08:...|\n",
      "|     6|  Gowron| 37|    220|2024-07-08 23:08:...|\n",
      "|     7|    Will| 54|    307|2024-07-08 23:08:...|\n",
      "|     8|  Jadzia| 38|    380|2024-07-08 23:08:...|\n",
      "|    10|     Odo| 53|    191|2024-07-08 23:08:...|\n",
      "|    11|     Ben| 57|    372|2024-07-08 23:08:...|\n",
      "|    12|   Keiko| 54|    253|2024-07-08 23:08:...|\n",
      "|    13|Jean-Luc| 56|    444|2024-07-08 23:08:...|\n",
      "|    14|    Hugh| 43|     49|2024-07-08 23:08:...|\n",
      "|    15|     Rom| 36|     49|2024-07-08 23:08:...|\n",
      "|    17|     Odo| 35|     13|2024-07-08 23:08:...|\n",
      "|    18|Jean-Luc| 45|    455|2024-07-08 23:08:...|\n",
      "|    19|  Geordi| 60|    246|2024-07-08 23:08:...|\n",
      "|    20|     Odo| 67|    220|2024-07-08 23:08:...|\n",
      "|    23|   Keiko| 51|    271|2024-07-08 23:08:...|\n",
      "|    27|   Leeta| 42|    363|2024-07-08 23:08:...|\n",
      "+------+--------+---+-------+--------------------+\n",
      "only showing top 20 rows\n",
      "\n"
     ]
    }
   ],
   "source": [
    "output.drop('age after two years').show()"
   ]
  },
  {
   "cell_type": "code",
   "execution_count": null,
   "id": "66668579-e2e7-4473-9a79-88c04336c486",
   "metadata": {},
   "outputs": [],
   "source": []
  },
  {
   "cell_type": "code",
   "execution_count": 36,
   "id": "b7b03140-8c84-4a58-93d0-e1fea0719c0d",
   "metadata": {},
   "outputs": [
    {
     "data": {
      "text/plain": [
       "[Database(name='default', catalog='spark_catalog', description='default database', locationUri='file:/C:/Users/HP/OneDrive/Desktop/nucleusteq%2520training/pyspark/spark-warehouse')]"
      ]
     },
     "execution_count": 36,
     "metadata": {},
     "output_type": "execute_result"
    }
   ],
   "source": [
    "spark.catalog.listDatabases()"
   ]
  },
  {
   "cell_type": "code",
   "execution_count": null,
   "id": "b16b5863-4a57-49cd-b6e1-a402f44b70a5",
   "metadata": {},
   "outputs": [],
   "source": []
  },
  {
   "cell_type": "code",
   "execution_count": null,
   "id": "d8f20422-a0bc-49ac-a71a-8bdc509b5660",
   "metadata": {},
   "outputs": [],
   "source": []
  },
  {
   "cell_type": "code",
   "execution_count": 43,
   "id": "7af314b6-be1a-4e4d-8e92-aa1558a58410",
   "metadata": {},
   "outputs": [
    {
     "data": {
      "text/plain": [
       "[Table(name='peoples', catalog=None, namespace=[], description=None, tableType='TEMPORARY', isTemporary=True)]"
      ]
     },
     "execution_count": 43,
     "metadata": {},
     "output_type": "execute_result"
    }
   ],
   "source": [
    "spark.catalog.listTables()"
   ]
  },
  {
   "cell_type": "code",
   "execution_count": 22,
   "id": "71f793bb-d44f-4f1f-b02d-32c90965210a",
   "metadata": {},
   "outputs": [
    {
     "data": {
      "text/plain": [
       "False"
      ]
     },
     "execution_count": 22,
     "metadata": {},
     "output_type": "execute_result"
    }
   ],
   "source": [
    "spark.catalog.dropGlobalTempView(\"peoples\")"
   ]
  },
  {
   "cell_type": "code",
   "execution_count": null,
   "id": "d1e94408-b88a-4b6e-a8b3-aa406c6c3569",
   "metadata": {},
   "outputs": [],
   "source": [
    "output.write \\\n",
    ".format(\"json\").mode(\"overwrite\") \\\n",
    ".option(\"path\",\"output/op/\") \\\n",
    ".partitionBy(\"age\") \\\n",
    ".save()\n"
   ]
  },
  {
   "cell_type": "code",
   "execution_count": null,
   "id": "48379119-9d9d-4e96-a339-7db645d32960",
   "metadata": {},
   "outputs": [],
   "source": []
  },
  {
   "cell_type": "code",
   "execution_count": null,
   "id": "f7ea678d-9b95-4ecc-bddf-86b39538c1ce",
   "metadata": {},
   "outputs": [],
   "source": [
    "\n"
   ]
  },
  {
   "cell_type": "code",
   "execution_count": null,
   "id": "e22215a6-0c76-47b7-991c-e192c641a34f",
   "metadata": {},
   "outputs": [],
   "source": []
  }
 ],
 "metadata": {
  "kernelspec": {
   "display_name": "Python 3 (ipykernel)",
   "language": "python",
   "name": "python3"
  },
  "language_info": {
   "codemirror_mode": {
    "name": "ipython",
    "version": 3
   },
   "file_extension": ".py",
   "mimetype": "text/x-python",
   "name": "python",
   "nbconvert_exporter": "python",
   "pygments_lexer": "ipython3",
   "version": "3.11.2"
  }
 },
 "nbformat": 4,
 "nbformat_minor": 5
}
