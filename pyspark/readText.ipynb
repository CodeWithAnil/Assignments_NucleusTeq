{
 "cells": [
  {
   "cell_type": "code",
   "execution_count": 2,
   "id": "a039babf-3422-49a1-9dc7-0031d7f63f86",
   "metadata": {},
   "outputs": [],
   "source": [
    "from pyspark.sql import SparkSession"
   ]
  },
  {
   "cell_type": "code",
   "execution_count": 3,
   "id": "70c9c173-d4a8-4ba1-9b90-67c2670c8487",
   "metadata": {},
   "outputs": [],
   "source": [
    "spark = SparkSession.builder.appName(\"readTextRDD\").getOrCreate()"
   ]
  },
  {
   "cell_type": "code",
   "execution_count": 10,
   "id": "20e1c308-9cd1-446c-91b1-ba3dd7a9f97b",
   "metadata": {},
   "outputs": [],
   "source": [
    "# read txt file into rdd\n",
    "rdf  = spark.read.text('textfile.txt')"
   ]
  },
  {
   "cell_type": "code",
   "execution_count": 11,
   "id": "b63a6502-03e9-4416-877b-42c85373fb5b",
   "metadata": {},
   "outputs": [
    {
     "data": {
      "text/plain": [
       "15"
      ]
     },
     "execution_count": 11,
     "metadata": {},
     "output_type": "execute_result"
    }
   ],
   "source": [
    "rdf.count()"
   ]
  },
  {
   "cell_type": "code",
   "execution_count": 12,
   "id": "1b7c9e4f-3fb2-422f-ad4f-422cdfd337b3",
   "metadata": {},
   "outputs": [
    {
     "name": "stdout",
     "output_type": "stream",
     "text": [
      "+--------------------+\n",
      "|               value|\n",
      "+--------------------+\n",
      "|Saab to build Cad...|\n",
      "|                    |\n",
      "|General Motors, t...|\n",
      "|                    |\n",
      "|The car, unveiled...|\n",
      "|                    |\n",
      "|GM's announcement...|\n",
      "|                    |\n",
      "|Neither will the ...|\n",
      "|                    |\n",
      "|GM's plans to bui...|\n",
      "|                    |\n",
      "|Bringing Cadillac...|\n",
      "|                    |\n",
      "|In a separate ann...|\n",
      "+--------------------+\n",
      "\n"
     ]
    }
   ],
   "source": [
    "rdf.show()"
   ]
  },
  {
   "cell_type": "code",
   "execution_count": 13,
   "id": "f0151827-304a-44a8-bef2-92b2dc122500",
   "metadata": {},
   "outputs": [
    {
     "name": "stdout",
     "output_type": "stream",
     "text": [
      "root\n",
      " |-- value: string (nullable = true)\n",
      "\n"
     ]
    }
   ],
   "source": [
    "rdf.printSchema()"
   ]
  },
  {
   "cell_type": "code",
   "execution_count": null,
   "id": "79be773d-1a60-4dd0-b72d-319791230be2",
   "metadata": {},
   "outputs": [],
   "source": []
  }
 ],
 "metadata": {
  "kernelspec": {
   "display_name": "Python 3 (ipykernel)",
   "language": "python",
   "name": "python3"
  },
  "language_info": {
   "codemirror_mode": {
    "name": "ipython",
    "version": 3
   },
   "file_extension": ".py",
   "mimetype": "text/x-python",
   "name": "python",
   "nbconvert_exporter": "python",
   "pygments_lexer": "ipython3",
   "version": "3.11.2"
  }
 },
 "nbformat": 4,
 "nbformat_minor": 5
}
